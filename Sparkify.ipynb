{
 "cells": [
  {
   "cell_type": "markdown",
   "metadata": {},
   "source": [
    "# Sparkify Project Workspace\n",
    "This workspace contains a tiny subset (128MB) of the full dataset available (12GB). Feel free to use this workspace to build your project, or to explore a smaller subset with Spark before deploying your cluster on the cloud. Instructions for setting up your Spark cluster is included in the last lesson of the Extracurricular Spark Course content.\n",
    "\n",
    "You can follow the steps below to guide your data analysis and model building portion of this project."
   ]
  },
  {
   "cell_type": "code",
   "execution_count": 1,
   "metadata": {},
   "outputs": [],
   "source": [
    "# import libraries\n",
    "import re\n",
    "import pyspark\n",
    "import datetime\n",
    "import numpy as np\n",
    "import pandas as pd\n",
    "import seaborn as sns\n",
    "\n",
    "%matplotlib inline\n",
    "import matplotlib.pyplot as plt\n",
    "\n",
    "\n",
    "from pyspark.sql import Window\n",
    "from pyspark.sql.types import IntegerType\n",
    "from pyspark.sql.functions import col, udf\n",
    "from pyspark.ml.feature import StandardScaler, VectorAssembler\n",
    "from pyspark.ml.tuning import ParamGridBuilder, CrossValidator\n",
    "from pyspark.ml.evaluation import MulticlassClassificationEvaluator\n",
    "from pyspark.ml.classification import LogisticRegression, GBTClassifier,LinearSVC\n",
    "from pyspark.sql.functions import avg, udf, explode, lit, min, udf, isnull, col, concat, desc, isnan,max, isnull, sum, split\n"
   ]
  },
  {
   "cell_type": "code",
   "execution_count": 2,
   "metadata": {},
   "outputs": [],
   "source": [
    "# Let's Create a session of Spark\n",
    "spark_session  = pyspark.sql.SparkSession.builder.getOrCreate()"
   ]
  },
  {
   "cell_type": "markdown",
   "metadata": {},
   "source": [
    "# Load and Clean Dataset\n",
    "In this workspace, the mini-dataset file is `mini_sparkify_event_data.json`. Load and clean the dataset, checking for invalid or missing data - for example, records without userids or sessionids. "
   ]
  },
  {
   "cell_type": "code",
   "execution_count": 3,
   "metadata": {},
   "outputs": [],
   "source": [
    "dframe = spark_session.read.json(\"mini_sparkify_event_data.json\")"
   ]
  },
  {
   "cell_type": "code",
   "execution_count": 4,
   "metadata": {},
   "outputs": [
    {
     "name": "stdout",
     "output_type": "stream",
     "text": [
      "root\n",
      " |-- artist: string (nullable = true)\n",
      " |-- auth: string (nullable = true)\n",
      " |-- firstName: string (nullable = true)\n",
      " |-- gender: string (nullable = true)\n",
      " |-- itemInSession: long (nullable = true)\n",
      " |-- lastName: string (nullable = true)\n",
      " |-- length: double (nullable = true)\n",
      " |-- level: string (nullable = true)\n",
      " |-- location: string (nullable = true)\n",
      " |-- method: string (nullable = true)\n",
      " |-- page: string (nullable = true)\n",
      " |-- registration: long (nullable = true)\n",
      " |-- sessionId: long (nullable = true)\n",
      " |-- song: string (nullable = true)\n",
      " |-- status: long (nullable = true)\n",
      " |-- ts: long (nullable = true)\n",
      " |-- userAgent: string (nullable = true)\n",
      " |-- userId: string (nullable = true)\n",
      "\n"
     ]
    }
   ],
   "source": [
    "dframe.printSchema()"
   ]
  },
  {
   "cell_type": "code",
   "execution_count": 5,
   "metadata": {},
   "outputs": [],
   "source": [
    "def information(dframe):\n",
    "    dframe_info = pd.DataFrame(columns = ['Feature','#Nullvalues','#Empetystring','#NonNullvalues','%Non-nullvalues'])\n",
    "    #Now let's check the null rows in each column count\n",
    "    count = 0\n",
    "    row_count = dframe.count()\n",
    "    for col in dframe.columns:\n",
    "        null_count = dframe.filter(isnull(dframe[col])).count()\n",
    "        emptystring_count = dframe.filter(dframe[col].isin('')).count()\n",
    "        dframe_info.loc[count] = [col,null_count,emptystring_count,(row_count-null_count),(row_count-null_count)/row_count]\n",
    "        count +=1\n",
    "    print(dframe_info)    "
   ]
  },
  {
   "cell_type": "code",
   "execution_count": 6,
   "metadata": {},
   "outputs": [
    {
     "name": "stdout",
     "output_type": "stream",
     "text": [
      "          Feature #Nullvalues #Empetystring #NonNullvalues  %Non-nullvalues\n",
      "0          artist       58392             0         228108         0.796188\n",
      "1            auth           0             0         286500         1.000000\n",
      "2       firstName        8346             0         278154         0.970869\n",
      "3          gender        8346             0         278154         0.970869\n",
      "4   itemInSession           0             0         286500         1.000000\n",
      "5        lastName        8346             0         278154         0.970869\n",
      "6          length       58392             0         228108         0.796188\n",
      "7           level           0             0         286500         1.000000\n",
      "8        location        8346             0         278154         0.970869\n",
      "9          method           0             0         286500         1.000000\n",
      "10           page           0             0         286500         1.000000\n",
      "11   registration        8346             0         278154         0.970869\n",
      "12      sessionId           0             0         286500         1.000000\n",
      "13           song       58392             0         228108         0.796188\n",
      "14         status           0             0         286500         1.000000\n",
      "15             ts           0             0         286500         1.000000\n",
      "16      userAgent        8346             0         278154         0.970869\n",
      "17         userId           0          8346         286500         1.000000\n"
     ]
    }
   ],
   "source": [
    "information(dframe)"
   ]
  },
  {
   "cell_type": "code",
   "execution_count": 7,
   "metadata": {},
   "outputs": [
    {
     "name": "stdout",
     "output_type": "stream",
     "text": [
      "Total No. of Rows in DF is 286500\n",
      "Total No. of Columns in DF is 18\n",
      "+-------+------------------+----------+---------+------+------------------+--------+\n",
      "|summary|            artist|      auth|firstName|gender|     itemInSession|lastName|\n",
      "+-------+------------------+----------+---------+------+------------------+--------+\n",
      "|  count|            228108|    286500|   278154|278154|            286500|  278154|\n",
      "|   mean| 551.0852017937219|      null|     null|  null|114.41421291448516|    null|\n",
      "| stddev|1217.7693079161374|      null|     null|  null|129.76726201140994|    null|\n",
      "|    min|               !!!| Cancelled| Adelaida|     F|                 0|   Adams|\n",
      "|    max| ÃÂlafur Arnalds|Logged Out|   Zyonna|     M|              1321|  Wright|\n",
      "+-------+------------------+----------+---------+------+------------------+--------+\n",
      "\n",
      "+-------+-----------------+------+-----------------+------+-------+--------------------+-----------------+\n",
      "|summary|           length| level|         location|method|   page|        registration|        sessionId|\n",
      "+-------+-----------------+------+-----------------+------+-------+--------------------+-----------------+\n",
      "|  count|           228108|286500|           278154|286500| 286500|              278154|           286500|\n",
      "|   mean|249.1171819778458|  null|             null|  null|   null|1.535358834084427...|1041.526554973822|\n",
      "| stddev|99.23517921058361|  null|             null|  null|   null| 3.291321616327586E9|726.7762634630741|\n",
      "|    min|          0.78322|  free|       Albany, OR|   GET|  About|       1521380675000|                1|\n",
      "|    max|       3024.66567|  paid|Winston-Salem, NC|   PUT|Upgrade|       1543247354000|             2474|\n",
      "+-------+-----------------+------+-----------------+------+-------+--------------------+-----------------+\n",
      "\n",
      "+-------+--------------------+------------------+--------------------+--------------------+-----------------+\n",
      "|summary|                song|            status|                  ts|           userAgent|           userId|\n",
      "+-------+--------------------+------------------+--------------------+--------------------+-----------------+\n",
      "|  count|              228108|            286500|              286500|              278154|           286500|\n",
      "|   mean|            Infinity|210.05459685863875|1.540956889810483...|                null|59682.02278593872|\n",
      "| stddev|                 NaN| 31.50507848842214|1.5075439608226302E9|                null|109091.9499991047|\n",
      "|    min|\u001c",
      "ÃÂg ÃÂtti Gr...|               200|       1538352117000|\"Mozilla/5.0 (Mac...|                 |\n",
      "|    max|ÃÂau hafa slopp...|               404|       1543799476000|Mozilla/5.0 (comp...|               99|\n",
      "+-------+--------------------+------------------+--------------------+--------------------+-----------------+\n",
      "\n"
     ]
    }
   ],
   "source": [
    "row_count = dframe.count()\n",
    "print(\"Total No. of Rows in DF is {}\".format(dframe.count()))\n",
    "print(\"Total No. of Columns in DF is {}\".format(len(dframe.columns)))\n",
    "dframe.describe(dframe.columns[:6]).show()\n",
    "dframe.describe(dframe.columns[6:13]).show()\n",
    "dframe.describe(dframe.columns[13:]).show()"
   ]
  },
  {
   "cell_type": "code",
   "execution_count": 8,
   "metadata": {},
   "outputs": [],
   "source": [
    "# Let's Drop cells which has missing session_id & user_id\n",
    "dframe = dframe.dropna(how = 'any', subset = ['sessionId', 'userId'])\n"
   ]
  },
  {
   "cell_type": "code",
   "execution_count": 9,
   "metadata": {},
   "outputs": [],
   "source": [
    "# Now Let's remove null empty UserId records\n",
    "dframe = dframe.filter(dframe['userId'] != '')"
   ]
  },
  {
   "cell_type": "code",
   "execution_count": 10,
   "metadata": {},
   "outputs": [
    {
     "name": "stdout",
     "output_type": "stream",
     "text": [
      "Total No. of Rows in the DF is 278154\n",
      "Total No. of columns in the DF is 18\n"
     ]
    }
   ],
   "source": [
    "print(\"Total No. of Rows in the DF is {}\".format(dframe.count()))\n",
    "print(\"Total No. of columns in the DF is {}\".format(len(dframe.columns)))"
   ]
  },
  {
   "cell_type": "markdown",
   "metadata": {},
   "source": [
    "# Exploratory Data Analysis\n",
    "When you're working with the full dataset, perform EDA by loading a small subset of the data and doing basic manipulations within Spark. In this workspace, you are already provided a small subset of data you can explore.\n",
    "\n",
    "### Define Churn\n",
    "\n",
    "Once you've done some preliminary analysis, create a column `Churn` to use as the label for your model. I suggest using the `Cancellation Confirmation` events to define your churn, which happen for both paid and free users. As a bonus task, you can also look into the `Downgrade` events.\n",
    "\n",
    "### Explore Data\n",
    "Once you've defined churn, perform some exploratory data analysis to observe the behavior for users who stayed vs users who churned. You can start by exploring aggregates on these two groups of users, observing how much of a specific action they experienced per a certain time unit or number of songs played."
   ]
  },
  {
   "cell_type": "code",
   "execution_count": 11,
   "metadata": {},
   "outputs": [],
   "source": [
    "# Let's Represent (TimeStamp & Registration) by creating new cols\n",
    "new_timestamp = udf(lambda x: datetime.datetime.fromtimestamp(x / 1000.0).strftime(\"%m-%d-%Y %H:%M:%S\"))\n",
    "dframe = dframe.withColumn('updated_registration', new_timestamp('registration'))\n",
    "dframe = dframe.withColumn('updated_ts', new_timestamp('ts'))"
   ]
  },
  {
   "cell_type": "code",
   "execution_count": 12,
   "metadata": {},
   "outputs": [],
   "source": [
    "# Add new col \"downgrade_value\" to mark it as Submit Downgrade\n",
    "downgrade_value  = udf(lambda a: 1 if a== \"Submit Downgrade\" else 0, IntegerType())\n",
    "dframe = dframe.withColumn(\"downgrade_value\", downgrade_value(\"page\"))\n",
    "\n",
    "# label users who have downgraded\n",
    "dg_window = Window.partitionBy('UserId')\n",
    "dframe = dframe.withColumn(\"user_downgrade\", max('downgrade_value').over(dg_window))\n",
    "\n",
    "# Add new col \"churn_value\" to mark it as Cancellation Confirmation event\n",
    "churn_value = udf(lambda a: 1 if a == 'Cancellation Confirmation' else 0, IntegerType())\n",
    "dframe = dframe.withColumn(\"churn_value\", churn_value(\"page\"))\n",
    "\n",
    "# Label's users who have churned\n",
    "churn_window = Window.partitionBy(\"userId\").rangeBetween(Window.unboundedPreceding, Window.unboundedFollowing)\n",
    "dframe = dframe.withColumn(\"user_churn\", sum('churn_value').over(churn_window))"
   ]
  },
  {
   "cell_type": "code",
   "execution_count": 13,
   "metadata": {},
   "outputs": [
    {
     "data": {
      "text/plain": [
       "Text(0.5,0,'Subscription status')"
      ]
     },
     "execution_count": 13,
     "metadata": {},
     "output_type": "execute_result"
    },
    {
     "data": {
      "image/png": "[encoded data removed]",
      "text/plain": [
       "<matplotlib.figure.Figure at 0x7f7c53a31630>"
      ]
     },
     "metadata": {
      "needs_background": "light"
     },
     "output_type": "display_data"
    }
   ],
   "source": [
    "plt.grid(True)\n",
    "dframe_ch_pd = dframe.drop_duplicates(['userId']).groupby(['user_churn']).count().sort(\"user_churn\").toPandas()\n",
    "sns.barplot(data = dframe_ch_pd, x = 'user_churn',y = 'count')\n",
    "churn = ['Active', 'Cancelled']\n",
    "x_pos = np.arange(len(churn))\n",
    "plt.xticks(x_pos,churn)\n",
    "plt.title('No. of unique users by Subscription status')\n",
    "plt.ylabel('No. of users')\n",
    "plt.xlabel('Subscription status')"
   ]
  },
  {
   "cell_type": "code",
   "execution_count": 14,
   "metadata": {},
   "outputs": [],
   "source": [
    "dframe_pandas = dframe.toPandas()"
   ]
  },
  {
   "cell_type": "code",
   "execution_count": 15,
   "metadata": {},
   "outputs": [
    {
     "data": {
      "text/plain": [
       "Text(0.5,0,'Subscription status')"
      ]
     },
     "execution_count": 15,
     "metadata": {},
     "output_type": "execute_result"
    },
    {
     "data": {
      "image/png": "[encoded data removed]",
      "text/plain": [
       "<matplotlib.figure.Figure at 0x7f7c53a8ef98>"
      ]
     },
     "metadata": {
      "needs_background": "light"
     },
     "output_type": "display_data"
    }
   ],
   "source": [
    "# Plot a Bar to show gender distribution by Subscription status\n",
    "plt.grid(True)\n",
    "dframe_ch_pd = dframe.drop_duplicates(['userId', 'gender']).groupby(['user_churn', 'gender']).count().sort(\"user_churn\").toPandas()\n",
    "sns.barplot(x = 'user_churn', y = 'count', data = dframe_ch_pd, hue = 'gender')\n",
    "churn = ['Active', 'Cancelled']\n",
    "y_pos = np.arange(len(churn))\n",
    "plt.xticks(y_pos,churn)\n",
    "plt.title(\"Gender distribution by Subscription status\")\n",
    "plt.ylabel('No. of users')\n",
    "plt.xlabel('Subscription status')"
   ]
  },
  {
   "cell_type": "code",
   "execution_count": 16,
   "metadata": {},
   "outputs": [
    {
     "data": {
      "text/plain": [
       "Text(0.5,0,'Subscription status')"
      ]
     },
     "execution_count": 16,
     "metadata": {},
     "output_type": "execute_result"
    },
    {
     "data": {
      "image/png": "[encoded data removed]",
      "text/plain": [
       "<matplotlib.figure.Figure at 0x7f7c53c98828>"
      ]
     },
     "metadata": {
      "needs_background": "light"
     },
     "output_type": "display_data"
    }
   ],
   "source": [
    "# Plot a Bar plot to show level distribution by Subscription status\n",
    "plt.grid(True)\n",
    "level_dframe = dframe.drop_duplicates(['userId','churn_value', 'level']).groupby(['churn_value', 'level']).count().sort(\"churn_value\").toPandas()\n",
    "sns.barplot(x = 'churn_value', y = 'count', data = level_dframe, hue = 'level')\n",
    "churn = ['Active', 'Cancelled']\n",
    "x_pos = np.arange(len(churn))\n",
    "plt.xticks(x_pos,churn)\n",
    "plt.title(\"Paid/Free distribution levels by Subscription status\")\n",
    "plt.ylabel('No. of users')\n",
    "plt.xlabel('Subscription status')"
   ]
  },
  {
   "cell_type": "code",
   "execution_count": 17,
   "metadata": {},
   "outputs": [
    {
     "data": {
      "text/plain": [
       "Text(0.5,0,'% of Envents')"
      ]
     },
     "execution_count": 17,
     "metadata": {},
     "output_type": "execute_result"
    },
    {
     "data": {
      "image/png": "[encoded data removed]",
      "text/plain": [
       "<matplotlib.figure.Figure at 0x7f7c5b000208>"
      ]
     },
     "metadata": {
      "needs_background": "light"
     },
     "output_type": "display_data"
    }
   ],
   "source": [
    "page_dframe = dframe.groupby(['page','user_churn']).count().toPandas()\n",
    "page_dframe = page_dframe[page_dframe['page'] != 'NextSong']\n",
    "page_dframe = ((page_dframe.groupby(['page','user_churn']).sum()/page_dframe.groupby(['user_churn']).sum())*100).reset_index()\n",
    "page_dframe['user_churn'].replace({1: 'Cancelled', 0:'Active'},inplace = True)\n",
    "plt.figure(figsize=(8,10))\n",
    "plt.grid(True)\n",
    "sns.barplot(y = 'page', x = 'count', data = page_dframe, hue = 'user_churn')\n",
    "plt.title(\" % of events by Subscription status\")\n",
    "sns.set_hls_values\n",
    "plt.ylabel('Eventes')\n",
    "plt.xlabel('% of Envents')"
   ]
  },
  {
   "cell_type": "code",
   "execution_count": 18,
   "metadata": {},
   "outputs": [],
   "source": [
    "get_hourly_data = udf(lambda a: datetime.datetime.fromtimestamp(a / 1000.0).hour)\n",
    "dframe = dframe.withColumn(\"hour\", get_hourly_data(dframe.ts))\n",
    "\n",
    "get_weekday_data = udf(lambda a: datetime.datetime.fromtimestamp(a / 1000.0).strftime(\"%w\"))\n",
    "dframe = dframe.withColumn(\"weekday\", get_weekday_data(dframe.ts))\n",
    "\n",
    "get_daily_data = udf(lambda a: datetime.datetime.fromtimestamp(a / 1000.0).day)\n",
    "dframe = dframe.withColumn(\"day\", get_daily_data(dframe.ts))"
   ]
  },
  {
   "cell_type": "code",
   "execution_count": 19,
   "metadata": {},
   "outputs": [
    {
     "data": {
      "text/plain": [
       "Text(0.5,0,'Hour')"
      ]
     },
     "execution_count": 19,
     "metadata": {},
     "output_type": "execute_result"
    },
    {
     "data": {
      "image/png": "[encoded data removed]",
      "text/plain": [
       "<matplotlib.figure.Figure at 0x7f7c4858cc88>"
      ]
     },
     "metadata": {
      "needs_background": "light"
     },
     "output_type": "display_data"
    }
   ],
   "source": [
    "hour_dframe = dframe.groupby(['hour','user_churn']).count().toPandas()\n",
    "hour_dframe1 = ((hour_dframe.groupby(['hour','user_churn']).sum()/hour_dframe.groupby(['user_churn']).sum())*100).reset_index()\n",
    "hour_dframe1['hour'] = hour_dframe1['hour'].astype(int)\n",
    "hour_dframe1['user_churn'].replace({0:'Active', 1: 'Cancelled'},inplace = True)\n",
    "hour_dframe1.sort_values(by = 'hour', ascending=True,inplace = True)\n",
    "plt.figure(figsize=(16,4))\n",
    "sns.barplot(x = 'hour', y = 'count', data = hour_dframe1, hue = 'user_churn')\n",
    "plt.title(\" % of users who accomplished an action per sixty minutes\")\n",
    "sns.set_hls_values\n",
    "plt.ylabel('% of users')\n",
    "plt.xlabel('Hour')"
   ]
  },
  {
   "cell_type": "code",
   "execution_count": 20,
   "metadata": {},
   "outputs": [
    {
     "data": {
      "text/plain": [
       "Text(0.5,0,'Weekdays')"
      ]
     },
     "execution_count": 20,
     "metadata": {},
     "output_type": "execute_result"
    },
    {
     "data": {
      "image/png": "[encoded data removed]",
      "text/plain": [
       "<matplotlib.figure.Figure at 0x7f7c489de588>"
      ]
     },
     "metadata": {
      "needs_background": "light"
     },
     "output_type": "display_data"
    }
   ],
   "source": [
    "weekday_dframe = dframe.groupby(['weekday','user_churn']).count().toPandas()\n",
    "weekday_dframe = ((weekday_dframe.groupby(['weekday','user_churn']).sum()/weekday_dframe.groupby(['user_churn']).sum())*100).reset_index()\n",
    "weekday_dframe['weekday'] = weekday_dframe['weekday'].astype(int)\n",
    "weekday_dframe['user_churn'].replace({0:'Active', 1: 'Cancelled'},inplace = True)\n",
    "weekday_dframe.sort_values(by = 'weekday', ascending=True,inplace = True)\n",
    "plt.figure(figsize=(16,4))\n",
    "sns.barplot(x = 'weekday', y = 'count', data = weekday_dframe, hue = 'user_churn')\n",
    "churn = ['Monday', 'Tuesday', 'Wednesday', 'Thursday', 'Friday', 'Saturday', 'Sunday']\n",
    "x_pos = np.arange(len(churn))\n",
    "plt.xticks(x_pos,churn)\n",
    "plt.title(\" % of users who took action on the day of the a period of 7 days\")\n",
    "plt.ylabel('% of users')\n",
    "plt.xlabel('Weekdays')"
   ]
  },
  {
   "cell_type": "code",
   "execution_count": 21,
   "metadata": {},
   "outputs": [
    {
     "data": {
      "text/plain": [
       "Text(0.5,0,'day of month')"
      ]
     },
     "execution_count": 21,
     "metadata": {},
     "output_type": "execute_result"
    },
    {
     "data": {
      "image/png": "[encoded data removed]",
      "text/plain": [
       "<matplotlib.figure.Figure at 0x7f7c48a79da0>"
      ]
     },
     "metadata": {
      "needs_background": "light"
     },
     "output_type": "display_data"
    }
   ],
   "source": [
    "day_dframe = dframe.groupby(['day','user_churn']).count().toPandas()\n",
    "day_dframe = ((day_dframe.groupby(['day','user_churn']).sum()/day_dframe.groupby(['user_churn']).sum())*100).reset_index()\n",
    "day_dframe['day'] = day_dframe['day'].astype(int)\n",
    "day_dframe['user_churn'].replace({1: 'Cancelled', 0:'Active'},inplace = True)\n",
    "day_dframe.sort_values(by = 'day', ascending=True,inplace = True)\n",
    "plt.figure(figsize=(16,4))\n",
    "sns.barplot(x = 'day', y = 'count', data = day_dframe, hue = 'user_churn')\n",
    "plt.title(\" % of daily active users%\")\n",
    "plt.ylabel('% of users')\n",
    "plt.xlabel('day of month')"
   ]
  },
  {
   "cell_type": "markdown",
   "metadata": {},
   "source": [
    "# Feature Engineering\n",
    "Once you've familiarized yourself with the data, build out the features you find promising to train your model on. To work with the full dataset, you can follow the following steps.\n",
    "- Write a script to extract the necessary features from the smaller subset of data\n",
    "- Ensure that your script is scalable, using the best practices discussed in Lesson 3\n",
    "- Try your script on the full data set, debugging your script if necessary\n",
    "\n",
    "If you are working in the classroom workspace, you can just extract features based on the small subset of data contained here. Be sure to transfer over this work to the larger dataset when you work on your Spark cluster."
   ]
  },
  {
   "cell_type": "code",
   "execution_count": 22,
   "metadata": {},
   "outputs": [],
   "source": [
    "# 1st Feature : Total No. of Listened Songs\n",
    "feature_one = dframe.select('userId', 'song').groupBy('userId').count().withColumnRenamed('count', 'total_songs')"
   ]
  },
  {
   "cell_type": "code",
   "execution_count": 23,
   "metadata": {},
   "outputs": [],
   "source": [
    "# 2nd Feature : Total Spent Time \n",
    "featuer_sec = dframe.select('userID','length').groupBy('userID').agg({'length':'sum'}).withColumnRenamed('sum(length)', 'listen_time')"
   ]
  },
  {
   "cell_type": "code",
   "execution_count": 24,
   "metadata": {},
   "outputs": [],
   "source": [
    "# 3rd Feature : No. of thumbs-up, 4th Feature : Thumbs-down\n",
    "feature_third = dframe.select('userID','page').where(dframe.page == 'Thumbs Up').groupBy('userID').agg({'page':'count'}).withColumnRenamed('count(page)', 'up_thumb_num')\n",
    "feature_fourth = dframe.select('userID','page').where(dframe.page == 'Thumbs Down').groupBy('userID').agg({'page':'count'}).withColumnRenamed('count(page)', 'down_thumb_num')\n"
   ]
  },
  {
   "cell_type": "code",
   "execution_count": 25,
   "metadata": {},
   "outputs": [],
   "source": [
    "# 5th Feature : No. of songs added in playlist\n",
    "feature_fifth = dframe.select('userID','page').where(dframe.page == 'Add to Playlist').groupBy('userID').agg({'page':'count'}).withColumnRenamed('count(page)', 'add_to_playlist')\n"
   ]
  },
  {
   "cell_type": "code",
   "execution_count": 26,
   "metadata": {},
   "outputs": [],
   "source": [
    "# 6th Feature : No of Life Time\n",
    "feature_six = dframe.select('userID','registration','ts').withColumn('lifetime',(dframe.ts-dframe.registration)).groupBy('userID').agg({'lifetime':'max'}).withColumnRenamed('max(lifetime)','lifetime')"
   ]
  },
  {
   "cell_type": "code",
   "execution_count": 27,
   "metadata": {},
   "outputs": [],
   "source": [
    "# 7th Feature : Total no. of friends\n",
    "feature_seven = dframe.select('userId', 'page').where(dframe.page == 'Add Friend').groupBy('userId').count().withColumnRenamed('count', 'total_friends')"
   ]
  },
  {
   "cell_type": "code",
   "execution_count": 28,
   "metadata": {},
   "outputs": [],
   "source": [
    "# 8th Feature : User's Gender\n",
    "feature_eight = dframe.select('userId', 'gender').dropDuplicates().replace(['F', 'M'], ['0', '1'], 'gender').select('userId', col('gender').cast('int'))"
   ]
  },
  {
   "cell_type": "code",
   "execution_count": 29,
   "metadata": {},
   "outputs": [],
   "source": [
    "# 9th Feature: No. of help &  10th Feature : No. of rolladvert\n",
    "feature_nine = dframe.select('userID','page').where(dframe.page == 'Help').groupBy('userID').agg({'page':'count'}).withColumnRenamed('count(page)', 'help') \n",
    "feat_ten = dframe.select('userID','page').where(dframe.page == 'Roll Advert').groupBy('userID').agg({'page':'count'}).withColumnRenamed('count(page)', 'roll_advert')"
   ]
  },
  {
   "cell_type": "code",
   "execution_count": 30,
   "metadata": {},
   "outputs": [],
   "source": [
    "# 11th Feature : Total Songs listened session wise\n",
    "feature_eleven  = dframe.where('page == \"NextSong\"').groupby(['userId', 'sessionId']).count().groupby('userId')\\\n",
    "          .agg({'count' : 'avg'}).withColumnRenamed('avg(count)', 'average_played_songs')"
   ]
  },
  {
   "cell_type": "code",
   "execution_count": 31,
   "metadata": {},
   "outputs": [],
   "source": [
    "# 12th Feature : Total no. of artists which users has listened\n",
    "feature_twelve = dframe.filter(dframe.page == \"NextSong\").select(\"userId\", \"artist\").dropDuplicates().groupby(\"userId\").count()\\\n",
    "         .withColumnRenamed(\"count\", \"total_artist_played\")"
   ]
  },
  {
   "cell_type": "code",
   "execution_count": 32,
   "metadata": {},
   "outputs": [],
   "source": [
    "# Now let's set the churn Label for our model\n",
    "label = dframe.select('userId', col('user_churn').alias('label')).dropDuplicates()"
   ]
  },
  {
   "cell_type": "code",
   "execution_count": 33,
   "metadata": {},
   "outputs": [],
   "source": [
    "# let's Combine all the features with target churn label's\n",
    "data  = feature_one.join(featuer_sec,'userID','outer') \\\n",
    "    .join(feature_third,'userID','outer') \\\n",
    "    .join(feature_fourth,'userID','outer') \\\n",
    "    .join(feature_fifth,'userID','outer') \\\n",
    "    .join(feature_six,'userID','outer') \\\n",
    "    .join(feature_seven,'userID','outer') \\\n",
    "    .join(feature_eight,'userID','outer') \\\n",
    "    .join(feature_nine,'userID','outer') \\\n",
    "    .join(feat_ten,'userID','outer') \\\n",
    "    .join(feature_eleven,'userID','outer') \\\n",
    "    .join(feature_twelve,'userID','outer') \\\n",
    "    .join(label,'userID','outer') \\\n",
    "    .drop('userID') \\\n",
    "    .fillna(0)"
   ]
  },
  {
   "cell_type": "code",
   "execution_count": 34,
   "metadata": {},
   "outputs": [
    {
     "name": "stdout",
     "output_type": "stream",
     "text": [
      "+-----------+------------------+------------+--------------+---------------+-----------+-------------+------+----+-----------+--------------------+-------------------+-----+\n",
      "|total_songs|       listen_time|up_thumb_num|down_thumb_num|add_to_playlist|   lifetime|total_friends|gender|help|roll_advert|average_played_songs|total_artist_played|label|\n",
      "+-----------+------------------+------------+--------------+---------------+-----------+-------------+------+----+-----------+--------------------+-------------------+-----+\n",
      "|        381| 66940.89735000003|          17|             5|              7| 4807612000|            4|     0|   2|         52|  39.285714285714285|                252|    0|\n",
      "|        474| 94008.87593999993|          21|             6|              8| 6054448000|            4|     1|   2|          7|                64.5|                339|    0|\n",
      "|         11|2089.1131000000005|           0|             0|              0| 6161779000|            0|     1|   0|          1|                 8.0|                  8|    1|\n",
      "|       4825|1012312.0927899999|         171|            41|            118|11366431000|           74|     0|  23|          4|  145.67857142857142|               2232|    0|\n",
      "|       2464| 523275.8428000004|         100|            21|             52| 1680985000|           28|     1|  12|          0|               211.1|               1385|    1|\n",
      "|        201| 38034.08710000002|           7|             1|              5| 6288035000|            1|     1|   1|         16|  21.428571428571427|                142|    0|\n",
      "+-----------+------------------+------------+--------------+---------------+-----------+-------------+------+----+-----------+--------------------+-------------------+-----+\n",
      "only showing top 6 rows\n",
      "\n"
     ]
    }
   ],
   "source": [
    "data.show(6)"
   ]
  },
  {
   "cell_type": "code",
   "execution_count": 35,
   "metadata": {},
   "outputs": [],
   "source": [
    "\n",
    "input_columns = ['total_songs',\n",
    " 'listen_time',\n",
    " 'up_thumb_num',\n",
    " 'down_thumb_num',\n",
    " 'add_to_playlist',\n",
    " 'lifetime',\n",
    " 'total_friends',\n",
    " 'gender',\n",
    " 'help',\n",
    " 'roll_advert',\n",
    " 'average_played_songs',\n",
    " 'total_artist_played']\n",
    "fitter = VectorAssembler(inputCols=input_columns, outputCol=\"NumFeatures\")\n",
    "data = fitter.transform(data)\n"
   ]
  },
  {
   "cell_type": "code",
   "execution_count": 36,
   "metadata": {},
   "outputs": [],
   "source": [
    "scalers = StandardScaler(inputCol=\"NumFeatures\", outputCol=\"features\", withStd=True)\n",
    "scaler_model = scalers.fit(data)\n",
    "data = scaler_model.transform(data)"
   ]
  },
  {
   "cell_type": "code",
   "execution_count": 37,
   "metadata": {},
   "outputs": [
    {
     "data": {
      "text/plain": [
       "[Row(total_songs=381, listen_time=66940.89735000003, up_thumb_num=17, down_thumb_num=5, add_to_playlist=7, lifetime=4807612000, total_friends=4, gender=0, help=2, roll_advert=52, average_played_songs=39.285714285714285, total_artist_played=252, label=0, NumFeatures=DenseVector([381.0, 66940.8974, 17.0, 5.0, 7.0, 4807612000.0, 4.0, 0.0, 2.0, 52.0, 39.2857, 252.0]), features=DenseVector([0.2866, 0.2431, 0.2596, 0.3823, 0.214, 1.4775, 0.1943, 0.0, 0.2761, 2.413, 0.9219, 0.4173])),\n",
       " Row(total_songs=474, listen_time=94008.87593999993, up_thumb_num=21, down_thumb_num=6, add_to_playlist=8, lifetime=6054448000, total_friends=4, gender=1, help=2, roll_advert=7, average_played_songs=64.5, total_artist_played=339, label=0, NumFeatures=DenseVector([474.0, 94008.8759, 21.0, 6.0, 8.0, 6054448000.0, 4.0, 1.0, 2.0, 7.0, 64.5, 339.0]), features=DenseVector([0.3565, 0.3414, 0.3207, 0.4588, 0.2445, 1.8606, 0.1943, 2.0013, 0.2761, 0.3248, 1.5135, 0.5613])),\n",
       " Row(total_songs=11, listen_time=2089.1131000000005, up_thumb_num=0, down_thumb_num=0, add_to_playlist=0, lifetime=6161779000, total_friends=0, gender=1, help=0, roll_advert=1, average_played_songs=8.0, total_artist_played=8, label=1, NumFeatures=DenseVector([11.0, 2089.1131, 0.0, 0.0, 0.0, 6161779000.0, 0.0, 1.0, 0.0, 1.0, 8.0, 8.0]), features=DenseVector([0.0083, 0.0076, 0.0, 0.0, 0.0, 1.8936, 0.0, 2.0013, 0.0, 0.0464, 0.1877, 0.0132])),\n",
       " Row(total_songs=4825, listen_time=1012312.0927899999, up_thumb_num=171, down_thumb_num=41, add_to_playlist=118, lifetime=11366431000, total_friends=74, gender=0, help=23, roll_advert=4, average_played_songs=145.67857142857142, total_artist_played=2232, label=0, NumFeatures=DenseVector([4825.0, 1012312.0928, 171.0, 41.0, 118.0, 11366431000.0, 74.0, 0.0, 23.0, 4.0, 145.6786, 2232.0]), features=DenseVector([3.6291, 3.6758, 2.6116, 3.1352, 3.6067, 3.4931, 3.5954, 0.0, 3.1757, 0.1856, 3.4185, 3.6957])),\n",
       " Row(total_songs=2464, listen_time=523275.8428000004, up_thumb_num=100, down_thumb_num=21, add_to_playlist=52, lifetime=1680985000, total_friends=28, gender=1, help=12, roll_advert=0, average_played_songs=211.1, total_artist_played=1385, label=1, NumFeatures=DenseVector([2464.0, 523275.8428, 100.0, 21.0, 52.0, 1680985000.0, 28.0, 1.0, 12.0, 0.0, 211.1, 1385.0]), features=DenseVector([1.8533, 1.9001, 1.5272, 1.6058, 1.5894, 0.5166, 1.3604, 2.0013, 1.6569, 0.0, 4.9536, 2.2932]))]"
      ]
     },
     "execution_count": 37,
     "metadata": {},
     "output_type": "execute_result"
    }
   ],
   "source": [
    "data.take(5)"
   ]
  },
  {
   "cell_type": "markdown",
   "metadata": {},
   "source": [
    "# Modeling\n",
    "Split the full dataset into train, test, and validation sets. Test out several of the machine learning methods you learned. Evaluate the accuracy of the various models, tuning parameters as necessary. Determine your winning model based on test accuracy and report results on the validation set. Since the churned users are a fairly small subset, I suggest using F1 score as the metric to optimize."
   ]
  },
  {
   "cell_type": "code",
   "execution_count": 38,
   "metadata": {},
   "outputs": [],
   "source": [
    "final_data = data.select('label','features')"
   ]
  },
  {
   "cell_type": "code",
   "execution_count": 39,
   "metadata": {},
   "outputs": [
    {
     "data": {
      "text/plain": [
       "[Row(label=0, features=DenseVector([0.2866, 0.2431, 0.2596, 0.3823, 0.214, 1.4775, 0.1943, 0.0, 0.2761, 2.413, 0.9219, 0.4173])),\n",
       " Row(label=0, features=DenseVector([0.3565, 0.3414, 0.3207, 0.4588, 0.2445, 1.8606, 0.1943, 2.0013, 0.2761, 0.3248, 1.5135, 0.5613]))]"
      ]
     },
     "execution_count": 39,
     "metadata": {},
     "output_type": "execute_result"
    }
   ],
   "source": [
    "final_data.take(2)"
   ]
  },
  {
   "cell_type": "code",
   "execution_count": 40,
   "metadata": {},
   "outputs": [],
   "source": [
    "train_set,validation_set = final_data.randomSplit([0.8, 0.2], seed=50)"
   ]
  },
  {
   "cell_type": "code",
   "execution_count": 41,
   "metadata": {},
   "outputs": [],
   "source": [
    "# Now let's train the model (Use multiple models and check performance)\n",
    "logistic_regression = LogisticRegression(maxIter=10, regParam =0.0)\n",
    "gbt_classifier = GBTClassifier(maxDepth = 5, maxIter = 10, seed = 42)\n",
    "linear_svm = LinearSVC (maxIter = 10,  regParam = 0.01)"
   ]
  },
  {
   "cell_type": "code",
   "execution_count": 42,
   "metadata": {},
   "outputs": [
    {
     "data": {
      "text/plain": [
       "[0.7524039440691163, 0.6959410072071835, 0.6876278792946842]"
      ]
     },
     "execution_count": 42,
     "metadata": {},
     "output_type": "execute_result"
    }
   ],
   "source": [
    "# Logistic Regression\n",
    "evaluator = MulticlassClassificationEvaluator(metricName='f1')\n",
    "param_map = ParamGridBuilder() \\\n",
    "    .addGrid(logistic_regression.regParam,[0.0, 0.05, 0.1]) \\\n",
    "    .build()\n",
    "cross_val = CrossValidator(estimator=logistic_regression,\n",
    "                          estimatorParamMaps=param_map,\n",
    "                          evaluator=evaluator,\n",
    "                          numFolds=3)\n",
    "cv_model = cross_val.fit(train_set)\n",
    "cv_model.avgMetrics"
   ]
  },
  {
   "cell_type": "code",
   "execution_count": 43,
   "metadata": {},
   "outputs": [
    {
     "data": {
      "text/plain": [
       "[0.6759010504014384, 0.6759010504014384, 0.6759010504014384]"
      ]
     },
     "execution_count": 43,
     "metadata": {},
     "output_type": "execute_result"
    }
   ],
   "source": [
    "# Support_Vector_Machine \n",
    "evaluator = MulticlassClassificationEvaluator(metricName='f1')\n",
    "param_map = ParamGridBuilder() \\\n",
    "    .addGrid(linear_svm.regParam,[0.01, 0.05, 0.5]) \\\n",
    "    .build()\n",
    "cross_val = CrossValidator(estimator=linear_svm,\n",
    "                          estimatorParamMaps=param_map,\n",
    "                          evaluator=evaluator,\n",
    "                          numFolds=3)\n",
    "cv_model2 = cross_val.fit(train_set)\n",
    "cv_model2.avgMetrics"
   ]
  },
  {
   "cell_type": "code",
   "execution_count": 44,
   "metadata": {},
   "outputs": [
    {
     "data": {
      "text/plain": [
       "[0.7265717227836672, 0.7167141707798639]"
      ]
     },
     "execution_count": 44,
     "metadata": {},
     "output_type": "execute_result"
    }
   ],
   "source": [
    "# Gradient Boosted Tree\n",
    "evaluator = MulticlassClassificationEvaluator(metricName='f1')\n",
    "param_map = ParamGridBuilder() \\\n",
    "    .addGrid(gbt_classifier.maxDepth,[5, 10]) \\\n",
    "    .build()\n",
    "cross_val = CrossValidator(estimator=gbt_classifier,\n",
    "                          estimatorParamMaps=param_map,\n",
    "                          evaluator=evaluator,\n",
    "                          numFolds=3)\n",
    "cv_model3 = cross_val.fit(train_set)\n",
    "cv_model3.avgMetrics"
   ]
  },
  {
   "cell_type": "code",
   "execution_count": 45,
   "metadata": {},
   "outputs": [],
   "source": [
    "gbt_tune = GBTClassifier(maxDepth=6,maxIter=12,seed=42)\n",
    "model_gbt = gbt_tune.fit(train_set)\n",
    "output = model_gbt.transform(validation_set)"
   ]
  },
  {
   "cell_type": "code",
   "execution_count": 46,
   "metadata": {},
   "outputs": [
    {
     "name": "stdout",
     "output_type": "stream",
     "text": [
      "0.7027027027027027\n"
     ]
    }
   ],
   "source": [
    "evaluation = MulticlassClassificationEvaluator(predictionCol=\"prediction\")\n",
    "print(evaluation.evaluate(output, {evaluation.metricName: \"accuracy\"}))"
   ]
  },
  {
   "cell_type": "code",
   "execution_count": 48,
   "metadata": {},
   "outputs": [
    {
     "name": "stdout",
     "output_type": "stream",
     "text": [
      "0.7155241494864136\n"
     ]
    }
   ],
   "source": [
    "print(evaluation.evaluate(output, {evaluation.metricName: \"f1\"}))"
   ]
  },
  {
   "cell_type": "code",
   "execution_count": 49,
   "metadata": {},
   "outputs": [
    {
     "data": {
      "text/plain": [
       "SparseVector(12, {0: 0.1405, 1: 0.046, 2: 0.1174, 3: 0.0889, 4: 0.0441, 5: 0.258, 6: 0.1293, 7: 0.0039, 8: 0.0363, 9: 0.0666, 10: 0.0679, 11: 0.001})"
      ]
     },
     "execution_count": 49,
     "metadata": {},
     "output_type": "execute_result"
    }
   ],
   "source": [
    "model_gbt.featureImportances"
   ]
  },
  {
   "cell_type": "code",
   "execution_count": 50,
   "metadata": {},
   "outputs": [
    {
     "data": {
      "image/png": "[encoded data removed]",
      "text/plain": [
       "<matplotlib.figure.Figure at 0x7f7c3f5ccef0>"
      ]
     },
     "metadata": {
      "needs_background": "light"
     },
     "output_type": "display_data"
    }
   ],
   "source": [
    "feature_important  = [ 0.134,0.0408,0.1519,0.0639,0.0946,0.2436,0.0988,0.0301,0.1421]\n",
    "feature = [\"listen_time\", \"down_thumb_num\", \\\n",
    "          'up_thumb_num','lifetime','add_friend','help','roll_advert', \"num_song\", 'add_to_playlist']\n",
    "y_pos = np.arange(len(feature))\n",
    " \n",
    "plt.barh(y_pos, feature_important, align='center')\n",
    "plt.yticks(y_pos, feature)\n",
    "plt.xlabel('Imp. Score')\n",
    "plt.title('Gradient Boosting Descent Feature Importance')\n",
    "plt.savefig('Gradient Boosting Descent feature Importance.png', dpi=500)"
   ]
  },
  {
   "cell_type": "markdown",
   "metadata": {},
   "source": [
    "# Final Steps\n",
    "Clean up your code, adding comments and renaming variables to make the code easier to read and maintain. Refer to the Spark Project Overview page and Data Scientist Capstone Project Rubric to make sure you are including all components of the capstone project and meet all expectations. Remember, this includes thorough documentation in a README file in a Github repository, as well as a web app or blog post."
   ]
  },
  {
   "cell_type": "code",
   "execution_count": null,
   "metadata": {},
   "outputs": [],
   "source": []
  }
 ],
 "metadata": {
  "kernelspec": {
   "display_name": "Python 3",
   "language": "python",
   "name": "python3"
  },
  "language_info": {
   "codemirror_mode": {
    "name": "ipython",
    "version": 3
   },
   "file_extension": ".py",
   "mimetype": "text/x-python",
   "name": "python",
   "nbconvert_exporter": "python",
   "pygments_lexer": "ipython3",
   "version": "3.6.3"
  }
 },
 "nbformat": 4,
 "nbformat_minor": 2
}
